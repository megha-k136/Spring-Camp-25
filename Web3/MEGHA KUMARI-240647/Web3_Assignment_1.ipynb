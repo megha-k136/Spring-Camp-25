{
 "cells": [
  {
   "cell_type": "code",
   "execution_count": 2,
   "id": "267cbcbc",
   "metadata": {},
   "outputs": [
    {
     "name": "stdout",
     "output_type": "stream",
     "text": [
      "Enter prefix P1: meg\n",
      "Enter prefix P2: mad\n",
      "Enter length k: 4\n",
      "S1: megadv9z4qa, Hash1: c7954b7397a1a100fb3cf7c62d34882564ba4fd665b20d519e06a3143c73a94f\n",
      "S2: mad1a0lqt1b, Hash2: c7951e3fa2129669a4f1ae5a34b574f73ec0eaecf85d938fb15dca1dd98f3d15\n"
     ]
    }
   ],
   "source": [
    "import hashlib\n",
    "import random\n",
    "import string\n",
    "\n",
    "def solve(P1, P2, k):\n",
    "    def sha256_hex(s):\n",
    "        return hashlib.sha256(s.encode()).hexdigest()\n",
    "    \n",
    "    while True:\n",
    "        S1=P1 + ''.join(random.choices(string.ascii_lowercase + string.digits, k=8))\n",
    "        S2=P2 + ''.join(random.choices(string.ascii_lowercase + string.digits, k=8))\n",
    "        \n",
    "        hash1=sha256_hex(S1)\n",
    "        hash2=sha256_hex(S2)\n",
    "        \n",
    "        if hash1[:k]==hash2[:k]:\n",
    "            return S1, S2, hash1, hash2\n",
    "\n",
    "P1=input(\"Enter prefix P1: \")\n",
    "P2=input(\"Enter prefix P2: \")\n",
    "k=int(input(\"Enter length k: \"))\n",
    "\n",
    "S1, S2, hash1, hash2 = solve(P1, P2, k)\n",
    "print(f\"S1: {S1}, Hash1: {hash1}\")\n",
    "print(f\"S2: {S2}, Hash2: {hash2}\")\n"
   ]
  },
  {
   "cell_type": "code",
   "execution_count": null,
   "id": "30ebe0a5",
   "metadata": {},
   "outputs": [],
   "source": []
  }
 ],
 "metadata": {
  "kernelspec": {
   "display_name": "Python 3 (ipykernel)",
   "language": "python",
   "name": "python3"
  },
  "language_info": {
   "codemirror_mode": {
    "name": "ipython",
    "version": 3
   },
   "file_extension": ".py",
   "mimetype": "text/x-python",
   "name": "python",
   "nbconvert_exporter": "python",
   "pygments_lexer": "ipython3",
   "version": "3.11.5"
  }
 },
 "nbformat": 4,
 "nbformat_minor": 5
}
